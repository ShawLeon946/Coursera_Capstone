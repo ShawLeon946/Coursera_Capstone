{
 "cells": [
  {
   "cell_type": "markdown",
   "metadata": {},
   "source": [
    "# Background 背景"
   ]
  },
  {
   "cell_type": "markdown",
   "metadata": {},
   "source": [
    "Henda investment&Property consulting 是一家位于纽约布鲁克林的公司，致力于为有意购买或租用房地产的客户提供定制的咨询于代理服务。随着信息技术的发展，Henda发现包括机器学习在内的数据科学技术能够带来更好的商业机会。基于数据科学技术的推荐系统正在逐渐成为资深地产经纪人的好帮手。这些技术比个人经验更具有说服力。\n",
    "Henda investment&Property consulting is a company located in Brooklyn, New York, dedicated to providing customized consulting and agency services for clients who are interested in buying or renting real estate. With the development of information technology, Henda found that data science technology including machine learning can bring better business opportunities. The recommendation system based on data science technology is gradually becoming a good helper for experienced real estate agents. These techniques are more convincing than personal experience."
   ]
  },
  {
   "cell_type": "markdown",
   "metadata": {},
   "source": [
    "## Business Problem 商业问题"
   ]
  },
  {
   "cell_type": "markdown",
   "metadata": {},
   "source": [
    "最近，一对老年夫妻希望Henda为他们提供咨询服务。他们原来住在纽约皇后区的的Hillcrest社区。现在他们希望搬到纽约Staten Island。他们填写了Henda公司的调查问卷（见链接）。根据调查问卷，他们的主要要求如下：\n",
    "Recently, an elderly couple asked Henda to provide them with counseling services. They used to live in the Hillcrest community in Queens, New York. Now they hope to move to Staten Island, New York. They filled out Henda's questionnaire (see link). According to the questionnaire, their main requirements are as follows:"
   ]
  },
  {
   "cell_type": "markdown",
   "metadata": {},
   "source": [
    "1. 他们希望我们为他们推荐与Hillcrest相似的社区，因为他们认为相似的社区可以避免他们改变他们的生活习惯。    \n",
    "They want us to recommend communities similar to Hillcrest for them because they think similar communities can prevent them from changing their living habits."
   ]
  },
  {
   "cell_type": "markdown",
   "metadata": {},
   "source": [
    "2. 他们希望他们的neighbourhood有各种面包店，因为他们真的非常喜欢吃甜甜圈。     \n",
    "They hope their neighbourhood has various bakeries because they really like donuts."
   ]
  },
  {
   "cell_type": "markdown",
   "metadata": {},
   "source": [
    "3. 他们希望他们的neighbourhood有比较多的Bus Stops，因为他们喜欢出游。而且他们每个月要去一次曼哈顿看望他们的儿子。     \n",
    "They hope that their neighbourhood has more Bus Stops because they like to travel. And they go to Manhattan to visit their son once a month."
   ]
  },
  {
   "cell_type": "markdown",
   "metadata": {},
   "source": [
    "# Data 数据"
   ]
  },
  {
   "cell_type": "markdown",
   "metadata": {},
   "source": [
    "我们将利用由NYU spatial data repository提供的纽约市的地图数据。    \n",
    "We will use the map data of New York City provided by NYU spatial data repository. \n",
    "link 链接：https://geo.nyu.edu/catalog/nyu_2451_34572            \n",
    "\n",
    "Foursquare API for developers可以为我们提供关于venue categories, top tips, locaton data, ratings等信息来完成这项任务。     \n",
    "Foursquare API for developers can provide us with information about venue categories, top tips, locaton data, ratings, etc. to complete this task.\n",
    "\n",
    "此外，如geopy, forlium等python library也为我们提供了必要的帮助。      \n",
    "In addition, python libraries such as geopy, forlium, etc. also provide us with necessary help."
   ]
  }
 ],
 "metadata": {
  "kernelspec": {
   "display_name": "Python 3",
   "language": "python",
   "name": "python3"
  },
  "language_info": {
   "codemirror_mode": {
    "name": "ipython",
    "version": 3
   },
   "file_extension": ".py",
   "mimetype": "text/x-python",
   "name": "python",
   "nbconvert_exporter": "python",
   "pygments_lexer": "ipython3",
   "version": "3.7.4"
  },
  "toc": {
   "base_numbering": 1,
   "nav_menu": {
    "height": "75.9943px",
    "width": "167.947px"
   },
   "number_sections": true,
   "sideBar": true,
   "skip_h1_title": false,
   "title_cell": "Table of Contents",
   "title_sidebar": "Contents",
   "toc_cell": false,
   "toc_position": {
    "height": "calc(100% - 180px)",
    "left": "10px",
    "top": "150px",
    "width": "123.999px"
   },
   "toc_section_display": true,
   "toc_window_display": true
  }
 },
 "nbformat": 4,
 "nbformat_minor": 1
}
